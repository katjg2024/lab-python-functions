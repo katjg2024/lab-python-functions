{
 "cells": [
  {
   "cell_type": "markdown",
   "id": "25d7736c-ba17-4aff-b6bb-66eba20fbf4e",
   "metadata": {},
   "source": [
    "# Lab | Functions"
   ]
  },
  {
   "cell_type": "markdown",
   "id": "0c581062-8967-4d93-b06e-62833222f930",
   "metadata": {
    "tags": []
   },
   "source": [
    "## Exercise: Managing Customer Orders with Functions\n",
    "\n",
    "In the previous exercise, you improved the code for managing customer orders by using loops and flow control. Now, let's take it a step further and refactor the code by introducing functions.\n",
    "\n",
    "Follow the steps below to complete the exercise:\n",
    "\n",
    "1. Define a function named `initialize_inventory` that takes `products` as a parameter. Inside the function, implement the code for initializing the inventory dictionary using a loop and user input.\n",
    "\n",
    "2. Define a function named `get_customer_orders` that takes no parameters. Inside the function, implement the code for prompting the user to enter the product names using a loop. The function should return the `customer_orders` set.\n",
    "\n",
    "3. Define a function named `update_inventory` that takes `customer_orders` and `inventory` as parameters. Inside the function, implement the code for updating the inventory dictionary based on the customer orders.\n",
    "\n",
    "4. Define a function named `calculate_order_statistics` that takes `customer_orders` and `products` as parameters. Inside the function, implement the code for calculating the order statistics (total products ordered, and percentage of unique products ordered). The function should return these values.\n",
    "\n",
    "5. Define a function named `print_order_statistics` that takes `order_statistics` as a parameter. Inside the function, implement the code for printing the order statistics.\n",
    "\n",
    "6. Define a function named `print_updated_inventory` that takes `inventory` as a parameter. Inside the function, implement the code for printing the updated inventory.\n",
    "\n",
    "7. Call the functions in the appropriate sequence to execute the program and manage customer orders.\n",
    "\n",
    "Hints for functions:\n",
    "\n",
    "- Consider the input parameters required for each function and their return values.\n",
    "- Utilize function parameters and return values to transfer data between functions.\n",
    "- Test your functions individually to ensure they work correctly.\n",
    "\n",
    "\n"
   ]
  },
  {
   "cell_type": "code",
   "execution_count": 30,
   "id": "56613339",
   "metadata": {},
   "outputs": [],
   "source": [
    "products = [\"t-shirt\", \"mug\", \"hat\", \"book\", \"keychain\"]\n",
    "inventory = {}"
   ]
  },
  {
   "cell_type": "code",
   "execution_count": 31,
   "id": "671dc6a3",
   "metadata": {},
   "outputs": [],
   "source": [
    "def initialize_inventory(products):\n",
    "    for product in products:\n",
    "        quantity = input(f\"Please enter quantity of {product}: \")\n",
    "        inventory[product]=quantity\n",
    "    return inventory"
   ]
  },
  {
   "cell_type": "code",
   "execution_count": 32,
   "id": "81b43677",
   "metadata": {},
   "outputs": [],
   "source": [
    "# initialize_inventory(products)"
   ]
  },
  {
   "cell_type": "code",
   "execution_count": 33,
   "id": "f5d32169",
   "metadata": {},
   "outputs": [],
   "source": [
    "customer_orders = set()\n",
    "\n",
    "def get_customer_orders():\n",
    "    while True:\n",
    "        item = input(\"Please enter item you would like to order: \")\n",
    "        if item in [\"t-shirt\", \"mug\", \"hat\", \"book\", \"keychain\"]:\n",
    "            customer_orders.add(item) \n",
    "            add_to_order = input(\"Would you like to order another item? Enter '1' for yes or '2' for no: \")\n",
    "            if add_to_order == '2':\n",
    "                print(\"Thank you for your order.\")\n",
    "                break\n",
    "        else:\n",
    "            print(\"Item not in inventory. Please choose from: t-shirt, mug, hat, book, or keychain.\")\n",
    "    return customer_orders"
   ]
  },
  {
   "cell_type": "code",
   "execution_count": 34,
   "id": "96e32cac",
   "metadata": {},
   "outputs": [],
   "source": [
    "# get_customer_orders()"
   ]
  },
  {
   "cell_type": "code",
   "execution_count": 35,
   "id": "b9a8be81",
   "metadata": {},
   "outputs": [],
   "source": [
    "def update_inventory(customer_orders, inventory):\n",
    "    for key in inventory:\n",
    "        inventory[key] = int(inventory[key])\n",
    "\n",
    "    for order in customer_orders:\n",
    "        inventory[order] -= 1"
   ]
  },
  {
   "cell_type": "code",
   "execution_count": 36,
   "id": "d08c1643",
   "metadata": {},
   "outputs": [],
   "source": [
    "# update_inventory(customer_orders, inventory)"
   ]
  },
  {
   "cell_type": "code",
   "execution_count": 37,
   "id": "72489cfd",
   "metadata": {},
   "outputs": [],
   "source": [
    "total_products_ordered = int(len(customer_orders))\n",
    "prod_int = int(len(products))\n",
    "order_statistics = (total_products_ordered/prod_int) * 100\n",
    "\n",
    "def calculate_order_statistics(customer_orders, products):\n",
    "    return total_products_ordered, order_statistics"
   ]
  },
  {
   "cell_type": "code",
   "execution_count": 38,
   "id": "b4d715ae",
   "metadata": {},
   "outputs": [],
   "source": [
    "# calculate_order_statistics(customer_orders, products)"
   ]
  },
  {
   "cell_type": "code",
   "execution_count": 39,
   "id": "1cf63134",
   "metadata": {},
   "outputs": [],
   "source": [
    "def print_order_statistics(order_statistics):\n",
    "    print(\"Order Statistics:\")\n",
    "    print(\"Total Products Ordered: \", total_products_ordered)\n",
    "    print(\"Percentage of Products Ordered: \", order_statistics, \"%\")"
   ]
  },
  {
   "cell_type": "code",
   "execution_count": 40,
   "id": "fb9e299a",
   "metadata": {},
   "outputs": [],
   "source": [
    "# print_order_statistics(order_statistics)"
   ]
  },
  {
   "cell_type": "code",
   "execution_count": 41,
   "id": "c227908a",
   "metadata": {},
   "outputs": [],
   "source": [
    "#from IronHack bot\n",
    "def print_updated_inventory(inventory):\n",
    "    print(\"Updated Inventory:\")\n",
    "    for product, quantity in inventory.items():\n",
    "        print(f\"{product}: {quantity}\")"
   ]
  },
  {
   "cell_type": "code",
   "execution_count": null,
   "id": "9e0d9241",
   "metadata": {},
   "outputs": [],
   "source": [
    "# print_updated_inventory(inventory)"
   ]
  },
  {
   "cell_type": "code",
   "execution_count": 42,
   "id": "e3d04d59",
   "metadata": {},
   "outputs": [
    {
     "name": "stdout",
     "output_type": "stream",
     "text": [
      "Please enter quantity of t-shirt: 10\n",
      "Please enter quantity of mug: 10\n",
      "Please enter quantity of hat: 10\n",
      "Please enter quantity of book: 10\n",
      "Please enter quantity of keychain: 10\n",
      "Please enter item you would like to order: hat\n",
      "Would you like to order another item? Enter '1' for yes or '2' for no: 1\n",
      "Please enter item you would like to order: mug\n",
      "Would you like to order another item? Enter '1' for yes or '2' for no: 2\n",
      "Thank you for your order.\n",
      "Order Statistics:\n",
      "Total Products Ordered:  2\n",
      "Percentage of Products Ordered:  40.0 %\n",
      "Updated Inventory:\n",
      "t-shirt: 10\n",
      "mug: 9\n",
      "hat: 9\n",
      "book: 10\n",
      "keychain: 10\n"
     ]
    }
   ],
   "source": [
    "# Initiating all functions in order\n",
    "\n",
    "products = [\"t-shirt\", \"mug\", \"hat\", \"book\", \"keychain\"]\n",
    "inventory = {}\n",
    "\n",
    "initialize_inventory(products)\n",
    "get_customer_orders()\n",
    "update_inventory(customer_orders, inventory)\n",
    "\n",
    "total_products_ordered = int(len(customer_orders))\n",
    "prod_int = int(len(products))\n",
    "order_statistics = (total_products_ordered/prod_int) * 100\n",
    "\n",
    "calculate_order_statistics(customer_orders, products)\n",
    "print_order_statistics(order_statistics)\n",
    "print_updated_inventory(inventory)"
   ]
  },
  {
   "cell_type": "code",
   "execution_count": null,
   "id": "748b6ec1",
   "metadata": {},
   "outputs": [],
   "source": []
  },
  {
   "cell_type": "code",
   "execution_count": null,
   "id": "537f454f",
   "metadata": {},
   "outputs": [],
   "source": []
  }
 ],
 "metadata": {
  "kernelspec": {
   "display_name": "Python 3 (ipykernel)",
   "language": "python",
   "name": "python3"
  },
  "language_info": {
   "codemirror_mode": {
    "name": "ipython",
    "version": 3
   },
   "file_extension": ".py",
   "mimetype": "text/x-python",
   "name": "python",
   "nbconvert_exporter": "python",
   "pygments_lexer": "ipython3",
   "version": "3.11.7"
  }
 },
 "nbformat": 4,
 "nbformat_minor": 5
}
